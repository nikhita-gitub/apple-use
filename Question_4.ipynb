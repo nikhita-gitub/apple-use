{
  "nbformat": 4,
  "nbformat_minor": 0,
  "metadata": {
    "colab": {
      "provenance": [],
      "authorship_tag": "ABX9TyMZJ+f3f5cH5qqULcmt2y3c",
      "include_colab_link": true
    },
    "kernelspec": {
      "name": "python3",
      "display_name": "Python 3"
    },
    "language_info": {
      "name": "python"
    }
  },
  "cells": [
    {
      "cell_type": "markdown",
      "metadata": {
        "id": "view-in-github",
        "colab_type": "text"
      },
      "source": [
        "<a href=\"https://colab.research.google.com/github/nikhita-gitub/apple-use/blob/main/Question_4.ipynb\" target=\"_parent\"><img src=\"https://colab.research.google.com/assets/colab-badge.svg\" alt=\"Open In Colab\"/></a>"
      ]
    },
    {
      "cell_type": "markdown",
      "source": [
        "# **4. Data Pre-processing**\n"
      ],
      "metadata": {
        "id": "EQKcHFONaFAW"
      }
    },
    {
      "cell_type": "markdown",
      "source": [
        "### **Purpose: In this section, we will prepare the dataset for analysis by performing essential pre-processing steps. These include segregating the predictors and target attributes, addressing any imbalance in the target variable, splitting the dataset into training and testing sets, and standardizing the data. Finally, we'll ensure that the training and testing sets share similar statistical characteristics.**\n",
        "\n"
      ],
      "metadata": {
        "id": "C-7g_BqmaT9m"
      }
    },
    {
      "cell_type": "markdown",
      "source": [
        "### **Objective: To ensure the data is clean, balanced, and ready for model training, with consistent characteristics between training and testing datasets.**"
      ],
      "metadata": {
        "id": "mUtCbwKvayYg"
      }
    },
    {
      "cell_type": "markdown",
      "source": [
        "**Step 1: Importing libraries**"
      ],
      "metadata": {
        "id": "3HZUl1rZa-Fp"
      }
    },
    {
      "cell_type": "code",
      "source": [
        "import pandas as pd\n",
        "import numpy as np\n",
        "from sklearn.model_selection import train_test_split\n",
        "from sklearn.preprocessing import StandardScaler\n",
        "from sklearn.utils import resample\n",
        "from imblearn.over_sampling import SMOTE\n",
        "import matplotlib.pyplot as plt\n",
        "import seaborn as sns\n",
        "from sklearn.impute import SimpleImputer\n",
        "import warnings\n",
        "warnings.filterwarnings(\"ignore\")"
      ],
      "metadata": {
        "id": "O38F6FBoa5pG"
      },
      "execution_count": 39,
      "outputs": []
    },
    {
      "cell_type": "markdown",
      "source": [
        "**Step 2: Segregate Predictors and Target Attributes**\n",
        "\n",
        "**Overview: We start by separating the independent variables (predictors) from the dependent variable (target). This step is crucial because it allows us to focus on the relationships between the predictors and the target during the analysis.**\n"
      ],
      "metadata": {
        "id": "dA3fzdpobK5m"
      }
    },
    {
      "cell_type": "code",
      "source": [
        "df = pd.read_csv('/content/signal-data.csv')\n",
        "\n",
        "print(df.isnull().sum())\n",
        "\n",
        "df = df.drop(columns=['Time'])\n",
        "\n",
        "imputer = SimpleImputer(strategy='mean')\n",
        "df_imputed = pd.DataFrame(imputer.fit_transform(df), columns=df.columns)\n",
        "\n",
        "# Display the data after imputation\n",
        "print(df_imputed.isnull().sum())\n",
        "\n",
        "\n",
        "X = df_imputed.drop(columns=['Pass/Fail'])  # Assuming 'Pass/Fail' is the target column\n",
        "y = df_imputed['Pass/Fail']\n",
        "\n",
        "X = df.drop('Pass/Fail', axis=1)\n",
        "y = df['Pass/Fail']\n",
        "\n",
        "print(\"Predictors shape:\", X.shape)\n",
        "print(\"Target shape:\", y.shape)"
      ],
      "metadata": {
        "colab": {
          "base_uri": "https://localhost:8080/"
        },
        "id": "oIPsnvR_bZGo",
        "outputId": "fa6f6253-5689-414f-bc28-7a9d1caf7b40"
      },
      "execution_count": 40,
      "outputs": [
        {
          "output_type": "stream",
          "name": "stdout",
          "text": [
            "Time          0\n",
            "0             6\n",
            "1             7\n",
            "2            14\n",
            "3            14\n",
            "             ..\n",
            "586           1\n",
            "587           1\n",
            "588           1\n",
            "589           1\n",
            "Pass/Fail     0\n",
            "Length: 592, dtype: int64\n",
            "0            0\n",
            "1            0\n",
            "2            0\n",
            "3            0\n",
            "4            0\n",
            "            ..\n",
            "586          0\n",
            "587          0\n",
            "588          0\n",
            "589          0\n",
            "Pass/Fail    0\n",
            "Length: 591, dtype: int64\n",
            "Predictors shape: (1567, 590)\n",
            "Target shape: (1567,)\n"
          ]
        }
      ]
    },
    {
      "cell_type": "markdown",
      "source": [
        "**Step 3: Check for Target Balancing**\n",
        "\n",
        "**Overview: Imbalanced datasets, where one class significantly outnumbers others, can lead to biased models. To address this, we check the distribution of the target variable and use the Synthetic Minority Over-sampling Technique (SMOTE) if needed to balance the classes.**\n"
      ],
      "metadata": {
        "id": "wC1xpWgfbHXe"
      }
    },
    {
      "cell_type": "code",
      "source": [
        "print(y.value_counts())\n",
        "X = X.fillna(X.mean())\n",
        "print(\"Number of NaNs remaining in X:\", X.isna().sum().sum())\n",
        "\n",
        "# Visualize target distribution\n",
        "sns.countplot(x=y)\n",
        "plt.title('Target Distribution Before SMOTE')\n",
        "plt.show()\n",
        "\n",
        "# Apply SMOTE to balance the target classes if necessary\n",
        "smote = SMOTE(random_state=42)\n",
        "X_smote, y_smote = smote.fit_resample(X, y)\n",
        "\n",
        "# Visualize the new target distribution after SMOTE\n",
        "sns.countplot(x=y_smote)\n",
        "plt.title('Target Distribution After SMOTE')\n",
        "plt.show()"
      ],
      "metadata": {
        "colab": {
          "base_uri": "https://localhost:8080/",
          "height": 1000
        },
        "id": "SEpsh_4hc_Ev",
        "outputId": "832b4b40-eb78-453a-e683-450f8a194079"
      },
      "execution_count": 41,
      "outputs": [
        {
          "output_type": "stream",
          "name": "stdout",
          "text": [
            "Pass/Fail\n",
            "-1    1463\n",
            " 1     104\n",
            "Name: count, dtype: int64\n",
            "Number of NaNs remaining in X: 0\n"
          ]
        },
        {
          "output_type": "display_data",
          "data": {
            "text/plain": [
              "<Figure size 640x480 with 1 Axes>"
            ],
            "image/png": "[encoded data removed]"
          },
          "metadata": {}
        },
        {
          "output_type": "display_data",
          "data": {
            "text/plain": [
              "<Figure size 640x480 with 1 Axes>"
            ],
            "image/png": "[encoded data removed]"
          },
          "metadata": {}
        }
      ]
    },
    {
      "cell_type": "markdown",
      "source": [
        "**Step 4: Perform Train-Test Split**\n",
        "\n",
        "**Overview: We split the dataset into training and testing sets. This split allows us to evaluate the model's performance on unseen data, ensuring its ability to generalize to new inputs. The stratify parameter ensures that the class distribution in the target variable remains consistent across both sets.**\n"
      ],
      "metadata": {
        "id": "ZTqfYmewheTq"
      }
    },
    {
      "cell_type": "code",
      "source": [
        "X_train, X_test, y_train, y_test = train_test_split(X_smote, y_smote, test_size=0.2, random_state=42, stratify=y_smote)\n",
        "\n",
        "# Display shapes\n",
        "print(\"X_train shape:\", X_train.shape)\n",
        "print(\"X_test shape:\", X_test.shape)\n",
        "print(\"y_train shape:\", y_train.shape)\n",
        "print(\"y_test shape:\", y_test.shape)"
      ],
      "metadata": {
        "colab": {
          "base_uri": "https://localhost:8080/"
        },
        "id": "9TRf9XclhoU6",
        "outputId": "7df717d6-a67a-4c39-96e2-10f30bd9eb8c"
      },
      "execution_count": 42,
      "outputs": [
        {
          "output_type": "stream",
          "name": "stdout",
          "text": [
            "X_train shape: (2340, 590)\n",
            "X_test shape: (586, 590)\n",
            "y_train shape: (2340,)\n",
            "y_test shape: (586,)\n"
          ]
        }
      ]
    },
    {
      "cell_type": "markdown",
      "source": [
        "**Step 5: Standardize the Data**\n",
        "\n",
        "**Overview: Standardization rescales the features to have a mean of 0 and a standard deviation of 1, ensuring that all features contribute equally to the model. This is particularly important for algorithms sensitive to the scale of input data, such as linear regression and k-nearest neighbors.**\n"
      ],
      "metadata": {
        "id": "GuuHStsGiO72"
      }
    },
    {
      "cell_type": "code",
      "source": [
        "scaler = StandardScaler()\n",
        "\n",
        "# Fit on the training data and transform both train and test data\n",
        "X_train_scaled = scaler.fit_transform(X_train)\n",
        "X_test_scaled = scaler.transform(X_test)\n",
        "\n",
        "# Convert back to DataFrame for easier analysis (optional)\n",
        "X_train_scaled = pd.DataFrame(X_train_scaled, columns=X_train.columns)\n",
        "X_test_scaled = pd.DataFrame(X_test_scaled, columns=X_test.columns)\n"
      ],
      "metadata": {
        "id": "BSinJq-tiU84"
      },
      "execution_count": 47,
      "outputs": []
    },
    {
      "cell_type": "markdown",
      "source": [
        "**Step 6: Check Statistical Characteristics**\n",
        "\n",
        "**Overview: After splitting and standardizing the data, it’s essential to verify that the training and testing sets share similar statistical properties. This step helps to confirm that the training set accurately represents the test set, which is crucial for developing a robust model.**\n"
      ],
      "metadata": {
        "id": "IH9zM9yYitW0"
      }
    },
    {
      "cell_type": "code",
      "source": [
        "print(\"Original Data Stats:\")\n",
        "print(X.describe())\n",
        "print(\"Training Data Stats:\")\n",
        "print(X_train_scaled.describe())\n",
        "\n",
        "print(\"\\nTesting Data Stats:\")\n",
        "print(X_test_scaled.describe())\n"
      ],
      "metadata": {
        "colab": {
          "base_uri": "https://localhost:8080/"
        },
        "id": "_qkwMatoirdq",
        "outputId": "e4840e20-ea49-4374-c23c-ed975d44a256"
      },
      "execution_count": 46,
      "outputs": [
        {
          "output_type": "stream",
          "name": "stdout",
          "text": [
            "Original Data Stats:\n",
            "                 0            1            2            3            4  \\\n",
            "count  1567.000000  1567.000000  1567.000000  1567.000000  1567.000000   \n",
            "mean   3014.452896  2495.850231  2200.547318  1396.376627     4.197013   \n",
            "std      73.480613    80.227793    29.380932   439.712852    56.103066   \n",
            "min    2743.240000  2158.750000  2060.660000     0.000000     0.681500   \n",
            "25%    2966.665000  2452.885000  2181.099950  1083.885800     1.017700   \n",
            "50%    3011.840000  2498.910000  2200.955600  1287.353800     1.317100   \n",
            "75%    3056.540000  2538.745000  2218.055500  1590.169900     1.529600   \n",
            "max    3356.350000  2846.440000  2315.266700  3715.041700  1114.536600   \n",
            "\n",
            "            5            6            7            8            9  ...  \\\n",
            "count  1567.0  1567.000000  1567.000000  1567.000000  1567.000000  ...   \n",
            "mean    100.0   101.112908     0.121822     1.462862    -0.000841  ...   \n",
            "std       0.0     6.209271     0.008936     0.073849     0.015107  ...   \n",
            "min     100.0    82.131100     0.000000     1.191000    -0.053400  ...   \n",
            "25%     100.0    97.937800     0.121100     1.411250    -0.010800  ...   \n",
            "50%     100.0   101.492200     0.122400     1.461600    -0.001300  ...   \n",
            "75%     100.0   104.530000     0.123800     1.516850     0.008400  ...   \n",
            "max     100.0   129.252200     0.128600     1.656400     0.074900  ...   \n",
            "\n",
            "               580          581          582          583          584  \\\n",
            "count  1567.000000  1567.000000  1567.000000  1567.000000  1567.000000   \n",
            "mean      0.005396    97.934373     0.500096     0.015318     0.003847   \n",
            "std       0.001956    54.936224     0.003403     0.017174     0.003719   \n",
            "min       0.001000     0.000000     0.477800     0.006000     0.001700   \n",
            "25%       0.005396    91.549650     0.497900     0.011600     0.003100   \n",
            "50%       0.005396    97.934373     0.500200     0.013800     0.003600   \n",
            "75%       0.005396    97.934373     0.502350     0.016500     0.004100   \n",
            "max       0.028600   737.304800     0.509800     0.476600     0.104500   \n",
            "\n",
            "               585          586          587          588          589  \n",
            "count  1567.000000  1567.000000  1567.000000  1567.000000  1567.000000  \n",
            "mean      3.067826     0.021458     0.016475     0.005283    99.670066  \n",
            "std       3.576891     0.012354     0.008805     0.002866    93.861936  \n",
            "min       1.197500    -0.016900     0.003200     0.001000     0.000000  \n",
            "25%       2.306500     0.013450     0.010600     0.003300    44.368600  \n",
            "50%       2.757700     0.020500     0.014800     0.004600    72.023000  \n",
            "75%       3.294950     0.027600     0.020300     0.006400   114.749700  \n",
            "max      99.303200     0.102800     0.079900     0.028600   737.304800  \n",
            "\n",
            "[8 rows x 590 columns]\n",
            "Training Data Stats:\n",
            "                  0             1             2             3             4  \\\n",
            "count  2.340000e+03  2.340000e+03  2.340000e+03  2.340000e+03  2.340000e+03   \n",
            "mean   2.761703e-15 -3.658991e-15  4.095489e-15  4.099285e-17  6.073015e-18   \n",
            "std    1.000214e+00  1.000214e+00  1.000214e+00  1.000214e+00  1.000214e+00   \n",
            "min   -3.720735e+00 -4.715792e+00 -5.166284e+00 -1.786385e+00 -4.918918e-02   \n",
            "25%   -6.664944e-01 -5.113991e-01 -6.474543e-01 -7.145571e-01 -3.726915e-02   \n",
            "50%   -1.310486e-01  4.303912e-02 -5.685201e-02 -2.221885e-01 -2.989445e-02   \n",
            "75%    5.705582e-01  5.397645e-01  5.638545e-01  5.279144e-01 -2.437935e-02   \n",
            "max    4.913481e+00  4.972463e+00  4.290515e+00  6.388035e+00  3.418919e+01   \n",
            "\n",
            "            5             6             7             8             9  ...  \\\n",
            "count  2340.0  2.340000e+03  2.340000e+03  2.340000e+03  2.340000e+03  ...   \n",
            "mean      0.0  1.821904e-16  1.011157e-15  9.944562e-16  4.023372e-17  ...   \n",
            "std       0.0  1.000214e+00  1.000214e+00  1.000214e+00  1.000214e+00  ...   \n",
            "min       0.0 -3.653693e+00 -2.063954e+01 -4.418684e+00 -2.884609e+00  ...   \n",
            "25%       0.0 -4.638673e-01 -1.618338e-01 -6.231405e-01 -6.173928e-01  ...   \n",
            "50%       0.0  2.394671e-02  2.498654e-02 -1.166579e-02 -1.144777e-02  ...   \n",
            "75%       0.0  5.177102e-01  2.413572e-01  6.937532e-01  5.672121e-01  ...   \n",
            "max       0.0  5.360556e+00  1.100620e+00  3.000474e+00  5.697849e+00  ...   \n",
            "\n",
            "                580           581           582           583           584  \\\n",
            "count  2.340000e+03  2.340000e+03  2.340000e+03  2.340000e+03  2.340000e+03   \n",
            "mean   3.704539e-16  1.366428e-17 -1.652847e-14 -4.251110e-17  7.287618e-17   \n",
            "std    1.000214e+00  1.000214e+00  1.000214e+00  1.000214e+00  1.000214e+00   \n",
            "min   -2.386453e+00 -2.162334e+00 -6.799660e+00 -6.253834e-01 -6.038968e-01   \n",
            "25%   -2.122507e-01 -2.941997e-01 -6.221151e-01 -2.597369e-01 -2.499224e-01   \n",
            "50%   -3.260511e-02  2.036744e-02  4.409065e-02 -1.072836e-01 -8.825390e-02   \n",
            "75%   -3.260511e-02  2.036744e-02  6.221521e-01  9.061109e-02  7.187246e-02   \n",
            "max    8.608761e+00  1.359093e+01  2.890606e+00  3.205316e+01  3.238008e+01   \n",
            "\n",
            "                585           586           587           588          589  \n",
            "count  2.340000e+03  2.340000e+03  2.340000e+03  2.340000e+03  2340.000000  \n",
            "mean  -1.032413e-16  1.821904e-17  1.700444e-16 -3.947460e-16     0.000000  \n",
            "std    1.000214e+00  1.000214e+00  1.000214e+00  1.000214e+00     1.000214  \n",
            "min   -6.072605e-01 -3.479441e+00 -1.733714e+00 -1.737012e+00    -1.228950  \n",
            "25%   -2.501046e-01 -6.255378e-01 -6.960983e-01 -6.856944e-01    -0.609506  \n",
            "50%   -1.040491e-01 -7.313240e-02 -1.469503e-01 -1.780712e-01    -0.274795  \n",
            "75%    8.566912e-02  5.233674e-01  4.915340e-01  4.974943e-01     0.206464  \n",
            "max    3.217032e+01  7.250432e+00  7.854854e+00  9.019679e+00     7.972165  \n",
            "\n",
            "[8 rows x 590 columns]\n",
            "\n",
            "Testing Data Stats:\n",
            "                0           1           2           3           4      5  \\\n",
            "count  586.000000  586.000000  586.000000  586.000000  586.000000  586.0   \n",
            "mean     0.029226    0.043789    0.034516    0.093958    0.087479    0.0   \n",
            "std      1.065525    1.032809    1.036610    1.100516    1.999817    0.0   \n",
            "min     -3.030685   -4.774184   -5.166284   -3.721203   -0.049189    0.0   \n",
            "25%     -0.678354   -0.536925   -0.694209   -0.693973   -0.036980    0.0   \n",
            "50%     -0.161512    0.078527   -0.058466   -0.174146   -0.029713    0.0   \n",
            "75%      0.629036    0.560932    0.621840    0.621000   -0.024348    0.0   \n",
            "max      4.111474    3.528232    4.155076    6.128703   34.262401    0.0   \n",
            "\n",
            "                6           7           8           9  ...         580  \\\n",
            "count  586.000000  586.000000  586.000000  586.000000  ...  586.000000   \n",
            "mean    -0.072209   -0.054363   -0.069429    0.070647  ...    0.074160   \n",
            "std      1.016970    1.507629    1.011426    0.981683  ...    1.267261   \n",
            "min     -3.653693  -20.639544   -3.860733   -3.802835  ...   -2.498649   \n",
            "25%     -0.529794   -0.149231   -0.696352   -0.558641  ...   -0.163884   \n",
            "50%      0.040633    0.029823   -0.090105    0.018172  ...   -0.032605   \n",
            "75%      0.486999    0.266470    0.557954    0.625726  ...   -0.030336   \n",
            "max      3.571694    0.931567    2.960620    3.772535  ...   12.984407   \n",
            "\n",
            "              581         582         583         584         585         586  \\\n",
            "count  586.000000  586.000000  586.000000  586.000000  586.000000  586.000000   \n",
            "mean     0.068291    0.045755   -0.024220   -0.024186   -0.024687   -0.058323   \n",
            "std      1.217665    0.955144    0.383760    0.344753    0.368841    0.957974   \n",
            "min     -2.162334   -2.651015   -0.660140   -0.700435   -0.636353   -2.502369   \n",
            "25%     -0.307008   -0.561551   -0.270862   -0.249922   -0.263318   -0.707223   \n",
            "50%      0.020367    0.104655   -0.103223   -0.056845   -0.101052   -0.127089   \n",
            "75%      0.020367    0.680014    0.077091    0.090664    0.075815    0.484534   \n",
            "max     14.270264    2.587785    1.891024    1.713026    1.827214    5.188718   \n",
            "\n",
            "              587         588         589  \n",
            "count  586.000000  586.000000  586.000000  \n",
            "mean     0.043996    0.037168    0.043650  \n",
            "std      1.161213    1.147492    1.025879  \n",
            "min     -1.733714   -1.737012   -1.228950  \n",
            "25%     -0.744010   -0.762674   -0.593382  \n",
            "50%     -0.167238   -0.139098   -0.267059  \n",
            "75%      0.496754    0.496970    0.371930  \n",
            "max      7.854854    9.019679    7.972165  \n",
            "\n",
            "[8 rows x 590 columns]\n"
          ]
        }
      ]
    },
    {
      "cell_type": "code",
      "source": [],
      "metadata": {
        "id": "fOmFUduQkQgv"
      },
      "execution_count": null,
      "outputs": []
    }
  ]
}